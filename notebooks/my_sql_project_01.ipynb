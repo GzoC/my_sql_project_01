{
 "cells": [
  {
   "cell_type": "code",
   "execution_count": 1,
   "id": "1eeb1183-7c5f-43d5-9de3-588622ff542d",
   "metadata": {},
   "outputs": [
    {
     "name": "stdout",
     "output_type": "stream",
     "text": [
      "Bibliotecas instaladas\n"
     ]
    }
   ],
   "source": [
    "# ------------------------------------------\n",
    "# CELDA 1: Importar bibliotecas necesarias\n",
    "# ------------------------------------------\n",
    "\n",
    "import sqlite3  # Importamos la biblioteca para conectarnos a una base de datos SQLite\n",
    "import csv      # Importamos csv para poder leer archivos CSV\n",
    "import os       # Importamos os para manejar rutas y archivos en el sistema operativo\n",
    "\n",
    "# Definimos las rutas de archivos en variables para facilidad de mantenimiento\n",
    "# Ajusta estas rutas si tienes una estructura de carpetas diferente.\n",
    "data_folder = \"../data\"        # Carpeta donde se ubican los archivos CSV\n",
    "db_folder   = \"../db\"          # Carpeta donde se guardará la base de datos\n",
    "db_name     = \"production.db\"  # Nombre del archivo de base de datos\n",
    "print(f'Bibliotecas instaladas')"
   ]
  },
  {
   "cell_type": "code",
   "execution_count": 2,
   "id": "6eda6323-af28-436b-b2ce-885cd5bcab30",
   "metadata": {},
   "outputs": [
    {
     "name": "stdout",
     "output_type": "stream",
     "text": [
      "Base de datos creada/conectada en: ../db\\production.db\n"
     ]
    }
   ],
   "source": [
    "# ------------------------------------------\n",
    "# CELDA 2: Crear/conectar la base de datos\n",
    "# ------------------------------------------\n",
    "\n",
    "# Verificamos si la carpeta db existe. Si no, la creamos.\n",
    "if not os.path.exists(db_folder):\n",
    "    os.makedirs(db_folder)  # Creamos la carpeta db si no existe\n",
    "\n",
    "# Construimos la ruta completa a la base de datos\n",
    "db_path = os.path.join(db_folder, db_name)\n",
    "\n",
    "# Creamos la conexión a la base de datos SQLite\n",
    "# Si el archivo production.db no existe, se creará automáticamente.\n",
    "conn = sqlite3.connect(db_path)\n",
    "\n",
    "# Creamos un cursor que nos permitirá ejecutar comandos SQL\n",
    "cursor = conn.cursor()\n",
    "\n",
    "print(f\"Base de datos creada/conectada en: {db_path}\")\n"
   ]
  },
  {
   "cell_type": "code",
   "execution_count": null,
   "id": "7de6a6ff-f8c2-4a44-bb2d-d718e7cdd831",
   "metadata": {},
   "outputs": [],
   "source": []
  }
 ],
 "metadata": {
  "kernelspec": {
   "display_name": "Python 3 (ipykernel)",
   "language": "python",
   "name": "python3"
  },
  "language_info": {
   "codemirror_mode": {
    "name": "ipython",
    "version": 3
   },
   "file_extension": ".py",
   "mimetype": "text/x-python",
   "name": "python",
   "nbconvert_exporter": "python",
   "pygments_lexer": "ipython3",
   "version": "3.12.7"
  }
 },
 "nbformat": 4,
 "nbformat_minor": 5
}
