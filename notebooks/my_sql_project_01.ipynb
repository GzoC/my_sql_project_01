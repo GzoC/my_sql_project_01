{
 "cells": [
  {
   "cell_type": "code",
   "execution_count": 1,
   "id": "1eeb1183-7c5f-43d5-9de3-588622ff542d",
   "metadata": {},
   "outputs": [
    {
     "name": "stdout",
     "output_type": "stream",
     "text": [
      "Bibliotecas instaladas\n"
     ]
    }
   ],
   "source": [
    "# ------------------------------------------\n",
    "# CELDA 1: Importar bibliotecas necesarias\n",
    "# ------------------------------------------\n",
    "\n",
    "import sqlite3  # Importamos la biblioteca para conectarnos a una base de datos SQLite\n",
    "import csv      # Importamos csv para poder leer archivos CSV\n",
    "import os       # Importamos os para manejar rutas y archivos en el sistema operativo\n",
    "\n",
    "# Definimos las rutas de archivos en variables para facilidad de mantenimiento\n",
    "# Ajusta estas rutas si tienes una estructura de carpetas diferente.\n",
    "data_folder = \"../data\"        # Carpeta donde se ubican los archivos CSV\n",
    "db_folder   = \"../db\"          # Carpeta donde se guardará la base de datos\n",
    "db_name     = \"production.db\"  # Nombre del archivo de base de datos\n",
    "print(f'Bibliotecas instaladas')"
   ]
  },
  {
   "cell_type": "code",
   "execution_count": 2,
   "id": "6eda6323-af28-436b-b2ce-885cd5bcab30",
   "metadata": {},
   "outputs": [
    {
     "name": "stdout",
     "output_type": "stream",
     "text": [
      "Base de datos creada/conectada en: ../db\\production.db\n"
     ]
    }
   ],
   "source": [
    "# ------------------------------------------\n",
    "# CELDA 2: Crear/conectar la base de datos\n",
    "# ------------------------------------------\n",
    "\n",
    "# Verificamos si la carpeta db existe. Si no, la creamos.\n",
    "if not os.path.exists(db_folder):\n",
    "    os.makedirs(db_folder)  # Creamos la carpeta db si no existe\n",
    "\n",
    "# Construimos la ruta completa a la base de datos\n",
    "db_path = os.path.join(db_folder, db_name)\n",
    "\n",
    "# Creamos la conexión a la base de datos SQLite\n",
    "# Si el archivo production.db no existe, se creará automáticamente.\n",
    "conn = sqlite3.connect(db_path)\n",
    "\n",
    "# Creamos un cursor que nos permitirá ejecutar comandos SQL\n",
    "cursor = conn.cursor()\n",
    "\n",
    "print(f\"Base de datos creada/conectada en: {db_path}\")\n"
   ]
  },
  {
   "cell_type": "code",
   "execution_count": 3,
   "id": "7de6a6ff-f8c2-4a44-bb2d-d718e7cdd831",
   "metadata": {},
   "outputs": [
    {
     "name": "stdout",
     "output_type": "stream",
     "text": [
      "Tablas 'orders' y 'products' creadas exitosamente.\n"
     ]
    }
   ],
   "source": [
    "# ------------------------------------------\n",
    "# CELDA 3: Crear tablas (orders y products)\n",
    "# ------------------------------------------\n",
    "\n",
    "# Eliminamos las tablas si existen (solo para reiniciar el ejemplo cada vez)\n",
    "cursor.execute(\"DROP TABLE IF EXISTS orders;\")   # Borramos la tabla 'orders' si existía\n",
    "cursor.execute(\"DROP TABLE IF EXISTS products;\") # Borramos la tabla 'products' si existía\n",
    "\n",
    "# Creamos la tabla 'orders' con las columnas apropiadas\n",
    "create_orders_table = \"\"\"\n",
    "CREATE TABLE orders (\n",
    "    order_id INTEGER PRIMARY KEY,\n",
    "    product_id INTEGER,\n",
    "    quantity INTEGER,\n",
    "    order_date TEXT,\n",
    "    status TEXT\n",
    ");\n",
    "\"\"\"\n",
    "\n",
    "# Creamos la tabla 'products' con las columnas apropiadas\n",
    "create_products_table = \"\"\"\n",
    "CREATE TABLE products (\n",
    "    product_id INTEGER PRIMARY KEY,\n",
    "    product_name TEXT,\n",
    "    price REAL,\n",
    "    category TEXT\n",
    ");\n",
    "\"\"\"\n",
    "\n",
    "# Ejecutamos las sentencias de creación\n",
    "cursor.execute(create_orders_table)\n",
    "cursor.execute(create_products_table)\n",
    "\n",
    "# Confirmamos los cambios\n",
    "conn.commit()\n",
    "\n",
    "print(\"Tablas 'orders' y 'products' creadas exitosamente.\")\n"
   ]
  },
  {
   "cell_type": "code",
   "execution_count": 4,
   "id": "d2e297b3-9423-4902-9794-e081077f3061",
   "metadata": {},
   "outputs": [
    {
     "name": "stdout",
     "output_type": "stream",
     "text": [
      "Datos cargados correctamente desde CSV a las tablas.\n"
     ]
    }
   ],
   "source": [
    "# ------------------------------------------\n",
    "# CELDA 4: Cargar datos CSV a las tablas\n",
    "# ------------------------------------------\n",
    "\n",
    "# Definimos la ruta de cada archivo CSV\n",
    "orders_csv_path = os.path.join(data_folder, \"orders.csv\")\n",
    "products_csv_path = os.path.join(data_folder, \"products.csv\")\n",
    "\n",
    "# Cargamos datos en la tabla 'orders'\n",
    "with open(orders_csv_path, mode='r', encoding='utf-8-sig') as f:  # Abrimos el archivo CSV de orders\n",
    "    reader = csv.DictReader(f)  # DictReader para acceder a las columnas por nombre\n",
    "    for row in reader:\n",
    "        # Extraemos cada valor (conversión de tipos si corresponde)\n",
    "        order_id = int(row['order_id'])            # Convertimos a int\n",
    "        product_id = int(row['product_id'])        # Convertimos a int\n",
    "        quantity = int(row['quantity'])            # Convertimos a int\n",
    "        order_date = row['order_date']             # Cadena de texto\n",
    "        status = row['status']                     # Cadena de texto\n",
    "        \n",
    "        # Preparamos la sentencia INSERT con placeholders\n",
    "        insert_order_query = \"\"\"\n",
    "        INSERT INTO orders (order_id, product_id, quantity, order_date, status)\n",
    "        VALUES (?, ?, ?, ?, ?);\n",
    "        \"\"\"\n",
    "        \n",
    "        # Ejecutamos la inserción con la tupla de valores\n",
    "        cursor.execute(insert_order_query, (order_id, product_id, quantity, order_date, status))\n",
    "\n",
    "# Cargamos datos en la tabla 'products'\n",
    "with open(products_csv_path, mode='r', encoding='utf-8-sig') as f:\n",
    "    reader = csv.DictReader(f)\n",
    "    for row in reader:\n",
    "        product_id = int(row['product_id'])\n",
    "        product_name = row['product_name']\n",
    "        price = float(row['price'])\n",
    "        category = row['category']\n",
    "        \n",
    "        insert_product_query = \"\"\"\n",
    "        INSERT INTO products (product_id, product_name, price, category)\n",
    "        VALUES (?, ?, ?, ?);\n",
    "        \"\"\"\n",
    "        \n",
    "        cursor.execute(insert_product_query, (product_id, product_name, price, category))\n",
    "\n",
    "# Confirmamos los cambios\n",
    "conn.commit()\n",
    "\n",
    "print(\"Datos cargados correctamente desde CSV a las tablas.\")\n"
   ]
  },
  {
   "cell_type": "code",
   "execution_count": 5,
   "id": "3873058e-db7c-4aaf-86ad-ed3fc22443c7",
   "metadata": {},
   "outputs": [
    {
     "name": "stdout",
     "output_type": "stream",
     "text": [
      "Tabla 'orders':\n",
      "(1, 101, 3, '2023-01-10', 'shipped')\n",
      "(2, 103, 1, '2023-01-11', 'shipped')\n",
      "(3, 102, 2, '2023-01-12', 'cancelled')\n",
      "(4, 101, 5, '2023-01-15', 'shipped')\n",
      "(5, 104, 2, '2023-01-15', 'pending')\n",
      "(6, 105, 7, '2023-01-18', 'shipped')\n",
      "\n",
      "--------------------\n",
      "\n",
      "Tabla 'products':\n",
      "(101, 'Widget A', 25.5, 'Category A')\n",
      "(102, 'Widget B', 15.0, 'Category A')\n",
      "(103, 'Thingamajig', 40.75, 'Category B')\n",
      "(104, 'Gadget', 10.0, 'Category A')\n",
      "(105, 'Machine Part', 50.0, 'Category C')\n"
     ]
    }
   ],
   "source": [
    "# ------------------------------------------\n",
    "# CELDA 5: Consulta básica de verificación\n",
    "# ------------------------------------------\n",
    "\n",
    "# Ejemplo de SELECT * para mostrar todos los registros de la tabla 'orders'\n",
    "select_all_orders = \"SELECT * FROM orders;\"\n",
    "cursor.execute(select_all_orders)  # Ejecutamos la consulta\n",
    "rows_orders = cursor.fetchall()    # Obtenemos todos los resultados en una lista\n",
    "\n",
    "print(\"Tabla 'orders':\")\n",
    "for row in rows_orders:\n",
    "    print(row)\n",
    "\n",
    "print(\"\\n--------------------\\n\")\n",
    "\n",
    "# Ejemplo de SELECT * para la tabla 'products'\n",
    "select_all_products = \"SELECT * FROM products;\"\n",
    "cursor.execute(select_all_products)\n",
    "rows_products = cursor.fetchall()\n",
    "\n",
    "print(\"Tabla 'products':\")\n",
    "for row in rows_products:\n",
    "    print(row)\n"
   ]
  },
  {
   "cell_type": "code",
   "execution_count": 6,
   "id": "7b20012d-f4b5-4c2f-9d7d-2aca18512236",
   "metadata": {},
   "outputs": [
    {
     "name": "stdout",
     "output_type": "stream",
     "text": [
      "Pedidos con status = 'shipped':\n",
      "(1, 101, 3, '2023-01-10', 'shipped')\n",
      "(2, 103, 1, '2023-01-11', 'shipped')\n",
      "(4, 101, 5, '2023-01-15', 'shipped')\n",
      "(6, 105, 7, '2023-01-18', 'shipped')\n",
      "\n",
      "--------------------\n",
      "\n",
      "Productos ordenados por precio (DESC):\n",
      "(105, 'Machine Part', 50.0, 'Category C')\n",
      "(103, 'Thingamajig', 40.75, 'Category B')\n",
      "(101, 'Widget A', 25.5, 'Category A')\n",
      "(102, 'Widget B', 15.0, 'Category A')\n",
      "(104, 'Gadget', 10.0, 'Category A')\n"
     ]
    }
   ],
   "source": [
    "# ------------------------------------------\n",
    "# CELDA 6: WHERE y ORDER BY\n",
    "# ------------------------------------------\n",
    "\n",
    "# 1. Seleccionar todos los pedidos con status = 'shipped'\n",
    "query_shipped_orders = \"\"\"\n",
    "SELECT * \n",
    "FROM orders\n",
    "WHERE status = 'shipped';\n",
    "\"\"\"\n",
    "cursor.execute(query_shipped_orders)\n",
    "result_shipped = cursor.fetchall()\n",
    "print(\"Pedidos con status = 'shipped':\")\n",
    "for row in result_shipped:\n",
    "    print(row)\n",
    "\n",
    "print(\"\\n--------------------\\n\")\n",
    "\n",
    "# 2. Seleccionar todos los productos ordenados por precio descendente\n",
    "query_products_desc = \"\"\"\n",
    "SELECT * \n",
    "FROM products\n",
    "ORDER BY price DESC;\n",
    "\"\"\"\n",
    "cursor.execute(query_products_desc)\n",
    "result_products_desc = cursor.fetchall()\n",
    "print(\"Productos ordenados por precio (DESC):\")\n",
    "for row in result_products_desc:\n",
    "    print(row)\n"
   ]
  },
  {
   "cell_type": "code",
   "execution_count": 7,
   "id": "58a8c173-e348-495c-b6ee-84e3141241d6",
   "metadata": {},
   "outputs": [
    {
     "name": "stdout",
     "output_type": "stream",
     "text": [
      "Conteo de pedidos por producto (GROUP BY):\n",
      "(101, 2)\n",
      "(102, 1)\n",
      "(103, 1)\n",
      "(104, 1)\n",
      "(105, 1)\n",
      "\n",
      "--------------------\n",
      "\n",
      "Cantidad total pedida por producto (SUM):\n",
      "(101, 8)\n",
      "(102, 2)\n",
      "(103, 1)\n",
      "(104, 2)\n",
      "(105, 7)\n"
     ]
    }
   ],
   "source": [
    "# ------------------------------------------\n",
    "# CELDA 7: GROUP BY y agregaciones\n",
    "# ------------------------------------------\n",
    "\n",
    "# Queremos saber cuántos pedidos (conteo) hay por cada producto_id\n",
    "query_group_by_product = \"\"\"\n",
    "SELECT product_id, COUNT(*) AS total_orders\n",
    "FROM orders\n",
    "GROUP BY product_id;\n",
    "\"\"\"\n",
    "cursor.execute(query_group_by_product)\n",
    "result_group_by_product = cursor.fetchall()\n",
    "\n",
    "print(\"Conteo de pedidos por producto (GROUP BY):\")\n",
    "for row in result_group_by_product:\n",
    "    print(row)\n",
    "\n",
    "print(\"\\n--------------------\\n\")\n",
    "\n",
    "# Ejemplo de SUM o AVG: cantidad total pedida por producto\n",
    "query_sum_quantity = \"\"\"\n",
    "SELECT product_id, SUM(quantity) AS total_quantity\n",
    "FROM orders\n",
    "GROUP BY product_id;\n",
    "\"\"\"\n",
    "cursor.execute(query_sum_quantity)\n",
    "result_sum_quantity = cursor.fetchall()\n",
    "\n",
    "print(\"Cantidad total pedida por producto (SUM):\")\n",
    "for row in result_sum_quantity:\n",
    "    print(row)\n"
   ]
  },
  {
   "cell_type": "code",
   "execution_count": 8,
   "id": "960886c2-4304-454b-a185-8fa80dc634ec",
   "metadata": {},
   "outputs": [
    {
     "name": "stdout",
     "output_type": "stream",
     "text": [
      "JOIN entre 'orders' y 'products':\n",
      "(1, 101, 'Widget A', 3, '2023-01-10', 'shipped')\n",
      "(2, 103, 'Thingamajig', 1, '2023-01-11', 'shipped')\n",
      "(3, 102, 'Widget B', 2, '2023-01-12', 'cancelled')\n",
      "(4, 101, 'Widget A', 5, '2023-01-15', 'shipped')\n",
      "(5, 104, 'Gadget', 2, '2023-01-15', 'pending')\n",
      "(6, 105, 'Machine Part', 7, '2023-01-18', 'shipped')\n"
     ]
    }
   ],
   "source": [
    "# ------------------------------------------\n",
    "# CELDA 8: JOIN entre las tablas\n",
    "# ------------------------------------------\n",
    "\n",
    "# Unimos orders y products para obtener nombres de productos en los pedidos\n",
    "query_join = \"\"\"\n",
    "SELECT o.order_id, o.product_id, p.product_name, o.quantity, o.order_date, o.status\n",
    "FROM orders o\n",
    "JOIN products p\n",
    "ON o.product_id = p.product_id;\n",
    "\"\"\"\n",
    "cursor.execute(query_join)\n",
    "result_join = cursor.fetchall()\n",
    "\n",
    "print(\"JOIN entre 'orders' y 'products':\")\n",
    "for row in result_join:\n",
    "    print(row)\n"
   ]
  },
  {
   "cell_type": "code",
   "execution_count": 9,
   "id": "9dd08e29-5562-4a66-be36-d46d23dd9af4",
   "metadata": {},
   "outputs": [
    {
     "name": "stdout",
     "output_type": "stream",
     "text": [
      "Pedidos de productos en 'Category A':\n",
      "(1, 101, 3, '2023-01-10', 'shipped')\n",
      "(3, 102, 2, '2023-01-12', 'cancelled')\n",
      "(4, 101, 5, '2023-01-15', 'shipped')\n",
      "(5, 104, 2, '2023-01-15', 'pending')\n"
     ]
    }
   ],
   "source": [
    "# ------------------------------------------\n",
    "# CELDA 9: Subconsulta (subquery)\n",
    "# ------------------------------------------\n",
    "\n",
    "# Ejemplo: queremos todos los pedidos de los productos que pertenecen a 'Category A'\n",
    "query_subquery = \"\"\"\n",
    "SELECT *\n",
    "FROM orders\n",
    "WHERE product_id IN (\n",
    "    SELECT product_id\n",
    "    FROM products\n",
    "    WHERE category = 'Category A'\n",
    ");\n",
    "\"\"\"\n",
    "cursor.execute(query_subquery)\n",
    "result_subquery = cursor.fetchall()\n",
    "\n",
    "print(\"Pedidos de productos en 'Category A':\")\n",
    "for row in result_subquery:\n",
    "    print(row)\n"
   ]
  }
 ],
 "metadata": {
  "kernelspec": {
   "display_name": "Python 3 (ipykernel)",
   "language": "python",
   "name": "python3"
  },
  "language_info": {
   "codemirror_mode": {
    "name": "ipython",
    "version": 3
   },
   "file_extension": ".py",
   "mimetype": "text/x-python",
   "name": "python",
   "nbconvert_exporter": "python",
   "pygments_lexer": "ipython3",
   "version": "3.12.7"
  }
 },
 "nbformat": 4,
 "nbformat_minor": 5
}
