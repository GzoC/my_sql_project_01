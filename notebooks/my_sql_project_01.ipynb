{
 "cells": [
  {
   "cell_type": "code",
   "execution_count": 2,
   "id": "1eeb1183-7c5f-43d5-9de3-588622ff542d",
   "metadata": {},
   "outputs": [
    {
     "name": "stdout",
     "output_type": "stream",
     "text": [
      "Bibliotecas instaladas\n"
     ]
    }
   ],
   "source": [
    "# ------------------------------------------\n",
    "# CELDA 1: Importar bibliotecas necesarias\n",
    "# ------------------------------------------\n",
    "\n",
    "import sqlite3  # Importamos la biblioteca para conectarnos a una base de datos SQLite\n",
    "import csv      # Importamos csv para poder leer archivos CSV\n",
    "import os       # Importamos os para manejar rutas y archivos en el sistema operativo\n",
    "\n",
    "# Definimos las rutas de archivos en variables para facilidad de mantenimiento\n",
    "# Ajusta estas rutas si tienes una estructura de carpetas diferente.\n",
    "data_folder = \"../data\"        # Carpeta donde se ubican los archivos CSV\n",
    "db_folder   = \"../db\"          # Carpeta donde se guardará la base de datos\n",
    "db_name     = \"production.db\"  # Nombre del archivo de base de datos\n",
    "print(f'Bibliotecas instaladas')"
   ]
  },
  {
   "cell_type": "code",
   "execution_count": null,
   "id": "6eda6323-af28-436b-b2ce-885cd5bcab30",
   "metadata": {},
   "outputs": [],
   "source": []
  }
 ],
 "metadata": {
  "kernelspec": {
   "display_name": "Python 3 (ipykernel)",
   "language": "python",
   "name": "python3"
  },
  "language_info": {
   "codemirror_mode": {
    "name": "ipython",
    "version": 3
   },
   "file_extension": ".py",
   "mimetype": "text/x-python",
   "name": "python",
   "nbconvert_exporter": "python",
   "pygments_lexer": "ipython3",
   "version": "3.12.7"
  }
 },
 "nbformat": 4,
 "nbformat_minor": 5
}
