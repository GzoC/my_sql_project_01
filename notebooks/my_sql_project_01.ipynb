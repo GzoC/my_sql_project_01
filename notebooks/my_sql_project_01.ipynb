{
 "cells": [
  {
   "cell_type": "code",
   "execution_count": 1,
   "id": "1eeb1183-7c5f-43d5-9de3-588622ff542d",
   "metadata": {},
   "outputs": [
    {
     "name": "stdout",
     "output_type": "stream",
     "text": [
      "Bibliotecas instaladas\n"
     ]
    }
   ],
   "source": [
    "# ------------------------------------------\n",
    "# CELDA 1: Importar bibliotecas necesarias\n",
    "# ------------------------------------------\n",
    "\n",
    "import sqlite3  # Importamos la biblioteca para conectarnos a una base de datos SQLite\n",
    "import csv      # Importamos csv para poder leer archivos CSV\n",
    "import os       # Importamos os para manejar rutas y archivos en el sistema operativo\n",
    "\n",
    "# Definimos las rutas de archivos en variables para facilidad de mantenimiento\n",
    "# Ajusta estas rutas si tienes una estructura de carpetas diferente.\n",
    "data_folder = \"../data\"        # Carpeta donde se ubican los archivos CSV\n",
    "db_folder   = \"../db\"          # Carpeta donde se guardará la base de datos\n",
    "db_name     = \"production.db\"  # Nombre del archivo de base de datos\n",
    "print(f'Bibliotecas instaladas')"
   ]
  },
  {
   "cell_type": "code",
   "execution_count": 2,
   "id": "6eda6323-af28-436b-b2ce-885cd5bcab30",
   "metadata": {},
   "outputs": [
    {
     "name": "stdout",
     "output_type": "stream",
     "text": [
      "Base de datos creada/conectada en: ../db\\production.db\n"
     ]
    }
   ],
   "source": [
    "# ------------------------------------------\n",
    "# CELDA 2: Crear/conectar la base de datos\n",
    "# ------------------------------------------\n",
    "\n",
    "# Verificamos si la carpeta db existe. Si no, la creamos.\n",
    "if not os.path.exists(db_folder):\n",
    "    os.makedirs(db_folder)  # Creamos la carpeta db si no existe\n",
    "\n",
    "# Construimos la ruta completa a la base de datos\n",
    "db_path = os.path.join(db_folder, db_name)\n",
    "\n",
    "# Creamos la conexión a la base de datos SQLite\n",
    "# Si el archivo production.db no existe, se creará automáticamente.\n",
    "conn = sqlite3.connect(db_path)\n",
    "\n",
    "# Creamos un cursor que nos permitirá ejecutar comandos SQL\n",
    "cursor = conn.cursor()\n",
    "\n",
    "print(f\"Base de datos creada/conectada en: {db_path}\")\n"
   ]
  },
  {
   "cell_type": "code",
   "execution_count": 3,
   "id": "7de6a6ff-f8c2-4a44-bb2d-d718e7cdd831",
   "metadata": {},
   "outputs": [
    {
     "name": "stdout",
     "output_type": "stream",
     "text": [
      "Tablas 'orders' y 'products' creadas exitosamente.\n"
     ]
    }
   ],
   "source": [
    "# ------------------------------------------\n",
    "# CELDA 3: Crear tablas (orders y products)\n",
    "# ------------------------------------------\n",
    "\n",
    "# Eliminamos las tablas si existen (solo para reiniciar el ejemplo cada vez)\n",
    "cursor.execute(\"DROP TABLE IF EXISTS orders;\")   # Borramos la tabla 'orders' si existía\n",
    "cursor.execute(\"DROP TABLE IF EXISTS products;\") # Borramos la tabla 'products' si existía\n",
    "\n",
    "# Creamos la tabla 'orders' con las columnas apropiadas\n",
    "create_orders_table = \"\"\"\n",
    "CREATE TABLE orders (\n",
    "    order_id INTEGER PRIMARY KEY,\n",
    "    product_id INTEGER,\n",
    "    quantity INTEGER,\n",
    "    order_date TEXT,\n",
    "    status TEXT\n",
    ");\n",
    "\"\"\"\n",
    "\n",
    "# Creamos la tabla 'products' con las columnas apropiadas\n",
    "create_products_table = \"\"\"\n",
    "CREATE TABLE products (\n",
    "    product_id INTEGER PRIMARY KEY,\n",
    "    product_name TEXT,\n",
    "    price REAL,\n",
    "    category TEXT\n",
    ");\n",
    "\"\"\"\n",
    "\n",
    "# Ejecutamos las sentencias de creación\n",
    "cursor.execute(create_orders_table)\n",
    "cursor.execute(create_products_table)\n",
    "\n",
    "# Confirmamos los cambios\n",
    "conn.commit()\n",
    "\n",
    "print(\"Tablas 'orders' y 'products' creadas exitosamente.\")\n"
   ]
  },
  {
   "cell_type": "code",
   "execution_count": 4,
   "id": "d2e297b3-9423-4902-9794-e081077f3061",
   "metadata": {},
   "outputs": [
    {
     "name": "stdout",
     "output_type": "stream",
     "text": [
      "Datos cargados correctamente desde CSV a las tablas.\n"
     ]
    }
   ],
   "source": [
    "# ------------------------------------------\n",
    "# CELDA 4: Cargar datos CSV a las tablas\n",
    "# ------------------------------------------\n",
    "\n",
    "# Definimos la ruta de cada archivo CSV\n",
    "orders_csv_path = os.path.join(data_folder, \"orders.csv\")\n",
    "products_csv_path = os.path.join(data_folder, \"products.csv\")\n",
    "\n",
    "# Cargamos datos en la tabla 'orders'\n",
    "with open(orders_csv_path, mode='r', encoding='utf-8-sig') as f:  # Abrimos el archivo CSV de orders\n",
    "    reader = csv.DictReader(f)  # DictReader para acceder a las columnas por nombre\n",
    "    for row in reader:\n",
    "        # Extraemos cada valor (conversión de tipos si corresponde)\n",
    "        order_id = int(row['order_id'])            # Convertimos a int\n",
    "        product_id = int(row['product_id'])        # Convertimos a int\n",
    "        quantity = int(row['quantity'])            # Convertimos a int\n",
    "        order_date = row['order_date']             # Cadena de texto\n",
    "        status = row['status']                     # Cadena de texto\n",
    "        \n",
    "        # Preparamos la sentencia INSERT con placeholders\n",
    "        insert_order_query = \"\"\"\n",
    "        INSERT INTO orders (order_id, product_id, quantity, order_date, status)\n",
    "        VALUES (?, ?, ?, ?, ?);\n",
    "        \"\"\"\n",
    "        \n",
    "        # Ejecutamos la inserción con la tupla de valores\n",
    "        cursor.execute(insert_order_query, (order_id, product_id, quantity, order_date, status))\n",
    "\n",
    "# Cargamos datos en la tabla 'products'\n",
    "with open(products_csv_path, mode='r', encoding='utf-8-sig') as f:\n",
    "    reader = csv.DictReader(f)\n",
    "    for row in reader:\n",
    "        product_id = int(row['product_id'])\n",
    "        product_name = row['product_name']\n",
    "        price = float(row['price'])\n",
    "        category = row['category']\n",
    "        \n",
    "        insert_product_query = \"\"\"\n",
    "        INSERT INTO products (product_id, product_name, price, category)\n",
    "        VALUES (?, ?, ?, ?);\n",
    "        \"\"\"\n",
    "        \n",
    "        cursor.execute(insert_product_query, (product_id, product_name, price, category))\n",
    "\n",
    "# Confirmamos los cambios\n",
    "conn.commit()\n",
    "\n",
    "print(\"Datos cargados correctamente desde CSV a las tablas.\")\n"
   ]
  }
 ],
 "metadata": {
  "kernelspec": {
   "display_name": "Python 3 (ipykernel)",
   "language": "python",
   "name": "python3"
  },
  "language_info": {
   "codemirror_mode": {
    "name": "ipython",
    "version": 3
   },
   "file_extension": ".py",
   "mimetype": "text/x-python",
   "name": "python",
   "nbconvert_exporter": "python",
   "pygments_lexer": "ipython3",
   "version": "3.12.7"
  }
 },
 "nbformat": 4,
 "nbformat_minor": 5
}
